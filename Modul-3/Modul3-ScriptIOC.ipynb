{
 "cells": [
  {
   "cell_type": "markdown",
   "metadata": {},
   "source": [
    "# Modul 3 Andat : Script IOC\n",
    "Pada script ini mencakup 6 visualisasi data,\n",
    "1. Plot Time Series\n",
    "2. Plot Power Spectral Density\n",
    "3. Plot Overlay Filter 6 jam\n",
    "4. Plot FFT\n",
    "5. Plot Overlay Filter 30 Hari (Bonus)\n",
    "6. Plot Anomali Muka air (Bonus)\n",
    "\n",
    "Author : Salbi Faza Rinaldi (September, 2020)"
   ]
  },
  {
   "cell_type": "code",
   "execution_count": null,
   "metadata": {},
   "outputs": [],
   "source": [
    "#import Library\n",
    "import pandas as pd\n",
    "import numpy as np\n",
    "from datetime import datetime\n",
    "import scipy.fft as fft\n",
    "from scipy import signal\n",
    "import warnings\n",
    "import matplotlib.pyplot as plt\n",
    "from matplotlib import rcParams\n",
    "rcParams['font.family'] = 'sans-serif'\n",
    "rcParams['font.sans-serif'] = ['Comic Sans MS']\n",
    "\n",
    "warnings.filterwarnings(\"ignore\")"
   ]
  },
  {
   "cell_type": "markdown",
   "metadata": {},
   "source": [
    "## 1. Plot Time Series \n",
    "Plot ini digunakan untuk melihat variasi muka air di suatu lokasi"
   ]
  },
  {
   "cell_type": "code",
   "execution_count": null,
   "metadata": {
    "scrolled": false
   },
   "outputs": [],
   "source": [
    "lokasi = 'Padang' #[CHANGE HERE]\n",
    "tahun = 2014 #[CHANGE HERE]\n",
    "bulan = 10 #[CHANGE HERE]\n",
    "tanggal = 15 #[CHANGE HERE]\n",
    "\n",
    "header_data = ['tahun','bulan', 'tanggal','jam','elevasi_mm']\n",
    "raw_data = pd.read_csv('h419.csv',names=header_data) #[CHANGE HERE]\n",
    "\n",
    "\n",
    "data_tahun = raw_data[raw_data['tahun'] == tahun]\n",
    "data_tahun['elevasi_m'] = data_tahun['elevasi_mm'].apply(lambda x: x/1000)\n",
    "data_tahun['tanggal_lengkap'] = (data_tahun.tahun.astype(str)+'-'\n",
    "                                    +data_tahun.bulan.astype(str)+'-'\n",
    "                                    +data_tahun.tanggal.astype(str)+' '\n",
    "                                    +data_tahun.jam.astype(str)+':00')\n",
    "data_tahun['tanggal_lengkap'] = pd.to_datetime(data_tahun['tanggal_lengkap'])\n",
    "data_tahun = data_tahun.set_index(data_tahun['tanggal_lengkap'])\n",
    "data_tahun.replace(-32.767,np.nan,inplace=True)\n",
    "data_tahun.interpolate(method='pchip',limit_direction='both',inplace=True)\n",
    "data_tahun['tanggal_lengkap'] = data_tahun['tanggal_lengkap'].dt.strftime('%H:%M, %d %b %Y')\n",
    "data_tahun = data_tahun.set_index(data_tahun['tanggal_lengkap'])\n",
    "\n",
    "data_tahun.drop('elevasi_mm',axis=1,inplace=True)\n",
    "data_tahun.drop('tanggal_lengkap',axis=1,inplace=True)\n",
    "\n",
    "#Plot data\n",
    "# data_index = data_tahun.index[0:len(data_tahun.index):24*30*3]\n",
    "# data_nindex = np.arange(0,len(data_tahun.index),24*30*3)\n",
    "\n",
    "data_tahun['elevasi_m'].plot(color='coral', lw=.5,figsize=(18,5))\n",
    "plt.title('Elevasi Muka Air di '+ lokasi + '\\nPada Tahun ' + \n",
    "          str(tahun), fontsize=18, weight='bold',pad=15)\n",
    "plt.xlabel('Waktu', fontsize=16, fontweight='bold',labelpad=8)\n",
    "plt.ylabel('Elevasi [m]', fontsize=16, fontweight='bold',labelpad=8)\n",
    "# plt.xticks(data_nindex,data_index, fontsize=14)\n",
    "plt.xticks(fontsize=14)\n",
    "plt.yticks(fontsize=14)\n",
    "plt.grid()\n",
    "\n",
    "#export gambar, berikan directory lokasi export\n",
    "# plt.savefig('Plot elevasi.png',dpi=300)\n",
    "\n",
    "#show gambar tanpa export\n",
    "plt.show()"
   ]
  },
  {
   "cell_type": "markdown",
   "metadata": {},
   "source": [
    "## 2. Plot Power Spectral Density\n",
    "plot ini digunakan untuk melihat frekuensi dominan pada sinyal time series"
   ]
  },
  {
   "cell_type": "code",
   "execution_count": null,
   "metadata": {},
   "outputs": [],
   "source": [
    "fig, ax = plt.subplots(figsize=(18,5))\n",
    "ax.psd(data_tahun['elevasi_m'],NFFT=len(data_tahun),Fs=1/3600,color='coral',lw=2)\n",
    "ax.set_title('Power Spectral Density Elevasi Muka Air di '+ lokasi + \n",
    "             '\\nPada Tahun ' + str(tahun), fontsize=18, weight='bold',\n",
    "            pad=15)\n",
    "ax.set_xlabel('Frequency',fontsize=16, fontweight='bold', labelpad=10)\n",
    "ax.set_ylabel('Power Spectral Density ',fontsize=16, fontweight='bold')\n",
    "ax.ticklabel_format(axis='x',scilimits=(0,0))\n",
    "tx = ax.xaxis.get_offset_text()\n",
    "tx.set_fontsize(14)\n",
    "ax.grid(color='r', ls = '-.', lw = 0.25)\n",
    "ax.tick_params(axis='both', which='major', labelsize=14)\n",
    "\n",
    "\n",
    "#export gambar, berikan directory lokasi export\n",
    "# plt.savefig('...',dpi=300)\n",
    "\n",
    "#show gambar tanpa export\n",
    "plt.show()"
   ]
  },
  {
   "cell_type": "markdown",
   "metadata": {},
   "source": [
    "## 3. Plot Overlay Filter 6 Jam\n",
    "Plot ini digunakan untuk melihat elevasi muka air dalam 1 hari"
   ]
  },
  {
   "cell_type": "code",
   "execution_count": null,
   "metadata": {},
   "outputs": [],
   "source": [
    "Ts = 3600 # periode pengambilan data dalam sekon\n",
    "Fs = 1/Ts  # Frekuensi sampling, satuan Hz\n",
    "\n",
    "fc = 1/(Ts*6)  # Frekuensi cut-off = 1 hari, satuan 1/s atau Hz\n",
    "w = fc / (Fs / 2) # Normalisasi frekuensi\n",
    "\n",
    "b, a = signal.butter(5, w, 'low') # desain filter untuk 'low pass'\n",
    "filter_6jam = signal.filtfilt(b, a, data_tahun['elevasi_m']) # implementasi filter ke data\n",
    "\n",
    "data_tahun['filter_6jam'] = filter_6jam\n",
    "\n",
    "data_tahun_bulan = data_tahun[data_tahun['bulan'] == bulan]\n",
    "data_tahun_bulan_tanggal = data_tahun_bulan[data_tahun_bulan['tanggal'] == tanggal]\n",
    "data = data_tahun_bulan['filter_6jam']\n",
    "\n",
    "n = len(data) # Jumlah data"
   ]
  },
  {
   "cell_type": "code",
   "execution_count": null,
   "metadata": {},
   "outputs": [],
   "source": [
    "# Plot Data\n",
    "data_index = data_tahun_bulan_tanggal.index[0:len(data_tahun_bulan_tanggal.index):7]\n",
    "data_nindex = np.arange(0,len(data_tahun_bulan_tanggal.index),7)\n",
    "\n",
    "data_tahun_bulan_tanggal['elevasi_m'].plot(color='black', lw=2, figsize=(18,5))\n",
    "data_tahun_bulan_tanggal['filter_6jam'].plot(color='red', lw=2, figsize=(18,5))\n",
    "plt.legend(loc='best',fontsize=14)\n",
    "plt.title('Overlay Elevasi Filter 6 jam Elevasi Muka Air \\ndi '+ lokasi + \n",
    "          ' Pada ' + str(tanggal) + '-' + str(bulan) + '-' + str(tahun), \n",
    "          fontsize=18, weight='bold',pad=15)\n",
    "plt.xlabel('Waktu', fontsize=16, fontweight='bold',labelpad=8)\n",
    "plt.ylabel('Elevasi [m]', fontsize=16, fontweight='bold',labelpad=8)\n",
    "plt.xticks(fontsize=14)\n",
    "plt.yticks(fontsize=14)\n",
    "plt.grid(color='k', ls = '-.', lw = 0.25)\n",
    "\n",
    "#export gambar, berikan directory lokasi export\n",
    "# plt.savefig('...',dpi=300)\n",
    "\n",
    "#show gambar tanpa export\n",
    "plt.show()"
   ]
  },
  {
   "cell_type": "markdown",
   "metadata": {},
   "source": [
    "## 4. Plot FFT\n",
    "plot ini digunakan untuk melihat data dalam domain periode dan frekuensi"
   ]
  },
  {
   "cell_type": "code",
   "execution_count": null,
   "metadata": {},
   "outputs": [],
   "source": [
    "fft_elevasi = fft(data,n) # FFT data sst di kedalaman depth\n",
    "fff_elevasi = fft_elevasi[0:round(n/2)] # Pemotongan Mirror Signal\n",
    "xfft = Fs/n*np.arange(0,round(n/2))\n",
    "pfft = (1/xfft)/(Ts*24) # Periode\n",
    "\n",
    "# Plot data\n",
    "fig, (ax1,ax2) = plt.subplots(ncols=2,figsize=(12,4),dpi=100)\n",
    "ax1.plot(pfft,abs(fff_elevasi), color = 'coral', lw = 2)\n",
    "ax2.plot(xfft,abs(fff_elevasi), color = 'coral', lw = 2)\n",
    "\n",
    "ax1.set_title('Period Domain Signal Elevation \\non the ' + \n",
    "              str(bulan) + 'th month of ' + str(tahun), weight='bold',\n",
    "              fontsize=14, pad=10)\n",
    "ax1.set_xlabel('Cycle per Day (Cpd)', weight='bold',fontsize=12)\n",
    "ax1.set_ylabel('Absolute Spectrum Denisty', weight='bold',fontsize=12)\n",
    "\n",
    "ax2.set_title('Frequency Domain Signal Elevation \\non the ' + \n",
    "              str(bulan) + 'th month of ' + str(tahun), weight='bold', \n",
    "              fontsize=14, pad=10)\n",
    "ax2.set_xlabel('Frequency', weight='bold',fontsize=12)\n",
    "ax2.set_ylabel('Absolute Spectrum Density', weight='bold',fontsize=12)\n",
    "\n",
    "ax1.set(xlim=(0,1.75),ylim=(0,170))\n",
    "ax2.set(xlim=(0,.3*10**(-4)),ylim=(0,175))\n",
    "ax2.ticklabel_format(axis='x',scilimits=(0,0))\n",
    "\n",
    "ax1.grid(color='r', ls = '-.', lw = 0.25)\n",
    "ax2.grid(color='r', ls = '-.', lw = 0.25)\n",
    "plt.xticks(fontsize=10)\n",
    "plt.yticks(fontsize=10)\n",
    "\n",
    "#export gambar, berikan directory lokasi export\n",
    "# plt.savefig('...',dpi=300)\n",
    "\n",
    "#show gambar tanpa export\n",
    "plt.show()"
   ]
  },
  {
   "cell_type": "markdown",
   "metadata": {},
   "source": [
    "## 5 Plot Overlay Filter 30 Hari\n",
    "Plot ini digunakan untuk melihat perbandingan filter 30 hari dengan raw data"
   ]
  },
  {
   "cell_type": "code",
   "execution_count": null,
   "metadata": {},
   "outputs": [],
   "source": [
    "from scipy import signal\n",
    "\n",
    "hari = 30 # Periode Cut-off\n",
    "Ts = 3600 # periode pengambilan data dalam sekon\n",
    "fs = 1/Ts  # Frekuensi sampling, satuan Hz\n",
    "\n",
    "fc = 1/(Ts*24*hari)  # Frekuensi cut-off dalam hari, satuan 1/s atau Hz\n",
    "w = fc / (fs / 2) # Normalisasi frekuensi\n",
    "\n",
    "b, a = signal.butter(5, w, 'low') # desain filter untuk 'low pass'\n",
    "filter_hari = signal.filtfilt(b, a, data_tahun['elevasi_m']) # implementasi filter ke data\n",
    "\n",
    "data_tahun['filter_hari'] = filter_hari\n",
    "\n",
    "# Plot Data\n",
    "data_index = data_tahun.index[0:len(data_tahun.index):24*30*3]\n",
    "data_nindex = np.arange(0,len(data_tahun.index),24*30*3)\n",
    "\n",
    "data_tahun['elevasi_m'].plot(color='coral', lw=.5, figsize=(18,5))\n",
    "data_tahun['filter_hari'].plot(color='grey', lw=1.5, figsize=(18,5))\n",
    "plt.legend(loc='best',fontsize=14)\n",
    "plt.title('Overlay Elevasi Filter '+str(hari) +' hari dan Elevasi Muka Air \\ndi '+ lokasi + \n",
    "          ' Pada Tahun ' + str(tahun), fontsize=18, weight='bold',pad=15)\n",
    "plt.xlabel('Waktu', fontsize=16, fontweight='bold',labelpad=8)\n",
    "plt.ylabel('Elevasi [m]', fontsize=16, fontweight='bold',labelpad=8)\n",
    "plt.xticks(data_nindex,data_index, fontsize=14)\n",
    "plt.xticks(fontsize=14)\n",
    "plt.yticks(fontsize=14)\n",
    "plt.grid(color='k', ls = '-.', lw = 0.25)\n",
    "\n",
    "#export gambar, berikan directory lokasi export\n",
    "# plt.savefig('...',dpi=300)\n",
    "\n",
    "#show gambar tanpa export\n",
    "plt.show()"
   ]
  },
  {
   "cell_type": "markdown",
   "metadata": {},
   "source": [
    "## 6. Plot Anomali Muka Air \n",
    "plot ini digunakan untuk melihat anomali muka air dalam 1 tahun"
   ]
  },
  {
   "cell_type": "code",
   "execution_count": null,
   "metadata": {},
   "outputs": [],
   "source": [
    "#Plot data\n",
    "data_tahun['anomaly']=data_tahun['filter_hari']-data_tahun['filter_hari'].mean()\n",
    "data_tahun['anomaly'].plot(figsize=(18,4),color='k',lw=.7)\n",
    "plt.fill_between(data_tahun.index, 0, data_tahun['anomaly'], \n",
    "                 where= data_tahun['anomaly']<0, facecolor='skyblue', interpolate=True)\n",
    "plt.fill_between(data_tahun.index, 0, data_tahun['anomaly'], \n",
    "                 where= data_tahun['anomaly']>0, facecolor='coral', interpolate=True)\n",
    "plt.title('Anomali Elevasi Muka Air \\ndi '+ lokasi + ' Pada Tahun ' + \n",
    "          str(tahun), fontsize=18, weight='bold',pad=15)\n",
    "plt.xlabel('Waktu', fontsize=16, fontweight='bold', labelpad=8)\n",
    "plt.ylabel('Elevasi [m]', fontsize=16, fontweight='bold', labelpad=8)\n",
    "plt.xticks(fontsize=14)\n",
    "plt.yticks(fontsize=14)\n",
    "plt.grid()\n",
    "\n",
    "#export gambar, berikan directory lokasi export\n",
    "# plt.savefig('...',dpi=300)\n",
    "\n",
    "#show gambar tanpa export\n",
    "plt.show()"
   ]
  }
 ],
 "metadata": {
  "kernelspec": {
   "display_name": "Python 3",
   "language": "python",
   "name": "python3"
  },
  "language_info": {
   "codemirror_mode": {
    "name": "ipython",
    "version": 3
   },
   "file_extension": ".py",
   "mimetype": "text/x-python",
   "name": "python",
   "nbconvert_exporter": "python",
   "pygments_lexer": "ipython3",
   "version": "3.7.7"
  }
 },
 "nbformat": 4,
 "nbformat_minor": 4
}
