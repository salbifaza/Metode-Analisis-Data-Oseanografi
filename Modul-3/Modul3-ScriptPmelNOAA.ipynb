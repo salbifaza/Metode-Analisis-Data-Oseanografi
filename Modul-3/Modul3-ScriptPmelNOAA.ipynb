{
 "cells": [
  {
   "cell_type": "markdown",
   "metadata": {},
   "source": [
    "# Modul 3 Andat : Script Pmel NOAA\n",
    "Pada script ini mencakup 4 visualisasi data,\n",
    "1. Plot Time Series\n",
    "2. Plot FFT\n",
    "3. Plot Low-Pass Filter\n",
    "4. Plot Hovmoller Time Depth\n",
    "\n",
    "Author : Salbi Faza Rinaldi (September, 2020)"
   ]
  },
  {
   "cell_type": "code",
   "execution_count": null,
   "metadata": {},
   "outputs": [],
   "source": [
    "#import Library\n",
    "import pandas as pd\n",
    "import numpy as np\n",
    "from datetime import datetime\n",
    "import matplotlib.pyplot as plt\n",
    "from matplotlib import rcParams\n",
    "rcParams['font.family'] = 'sans-serif'\n",
    "rcParams['font.sans-serif'] = ['Comic Sans MS']\n",
    "import scipy.fft as fft\n",
    "from scipy import signal"
   ]
  },
  {
   "cell_type": "code",
   "execution_count": null,
   "metadata": {},
   "outputs": [],
   "source": [
    "sst = pd.read_excel('Modul3Andat2.xlsx',sheet_name='ScriptPMELLNOAA',index_col=0) #[Disesuaikan]\n",
    "\n",
    "sst['Tanggal'] = sst.index.tolist()\n",
    "sst['Tanggal'] = sst['Tanggal'].apply(lambda x: pd.to_datetime(str(x), format='%Y%m%d'))\n",
    "sst['Tanggal'] = sst['Tanggal'].dt.strftime('%d %b %Y')\n",
    "sst = sst.set_index(sst['Tanggal'])\n",
    "sst.drop('Tanggal', axis=1, inplace=True)\n",
    "sst.drop('QUALITY',axis=1,inplace=True)\n",
    "sst.replace(-9.999,np.nan,inplace=True)\n",
    "sst.interpolate(method='linear',limit_direction='both',inplace=True)\n",
    "sst.to_excel('HasilInterpolasi.xlsx')\n",
    "\n",
    "display (sst.head())"
   ]
  },
  {
   "cell_type": "markdown",
   "metadata": {},
   "source": [
    "## 1. Plot Time Series \n",
    "plot ini digunakan untuk melihat variasi temporal dari suhu di lokasi tertentu"
   ]
  },
  {
   "cell_type": "code",
   "execution_count": null,
   "metadata": {},
   "outputs": [],
   "source": [
    "depth = 200 #[CHANGE HERE for depth]\n",
    "year = 2010 #[CHANGE HERE for year]\n",
    "daerah = '0N 180W' #[CHANGE HERE for Coordinate]\n",
    "\n",
    "sst_index = sst.index[0:len(sst.index):7]\n",
    "sst_nindex = np.arange(0,len(sst.index),7)\n",
    "\n",
    "# Plot Data Time Domain Signal \n",
    "fig, ax = plt.subplots(figsize=(13,3),dpi=100)\n",
    "ax.plot(sst[depth], color ='peru', lw = 2)\n",
    "\n",
    "ax.set_title('Time Domain Signal di kedalaman '+ str(depth) + ' meter',\n",
    "             weight='bold', fontsize=14, pad = 10)\n",
    "ax.set_xlabel('Date time ', weight='bold', fontsize=12)\n",
    "ax.set_ylabel('Temperature ($^o$C)', weight='bold', fontsize=12)\n",
    "ax.grid(color='r', ls = '-.', lw = 0.25)\n",
    "plt.yticks(fontsize = 8.5)\n",
    "plt.xticks(sst_nindex,sst_index,fontsize = 8.5)\n",
    "\n",
    "#export gambar, berikan directory lokasi export\n",
    "plt.savefig('Kedalaman 1 Timeseries.png',dpi=300)\n",
    "\n",
    "#show gambar tanpa export\n",
    "plt.show()"
   ]
  },
  {
   "cell_type": "markdown",
   "metadata": {},
   "source": [
    "## 2. Plot FFT\n",
    "plot ini digunakan untuk melihat data dalam domain periode dan frekuensi"
   ]
  },
  {
   "cell_type": "code",
   "execution_count": null,
   "metadata": {},
   "outputs": [],
   "source": [
    "Ts = 3600*24*5 # Sampling periode dalam hari \n",
    "Fs = 1 / Ts # Sampling frekuensi\n",
    "n = len(sst) # Jumlah data\n",
    "\n",
    "fft_sst = fft(sst[depth],n) # FFT data sst di kedalaman depth\n",
    "fff_sst = fft_sst[0:round(n/2)] # Pemotongan Mirror Signal\n",
    "fff_sst = fff_sst/fft_sst.max()\n",
    "xfft = Fs/n*np.arange(0,round(n/2))\n",
    "pfft = (1./xfft)/(Ts) # Periode\n",
    "\n",
    "# Plot data\n",
    "fig, (ax1,ax2) = plt.subplots(ncols=2,figsize=(12,4),dpi=100)\n",
    "ax1.plot(pfft,abs(fff_sst),color='b', lw = 1.3)\n",
    "ax2.plot(xfft,abs(fff_sst), color = 'b', lw = 1.3)\n",
    "\n",
    "ax1.set_title('Period Domain Signal di Kedalaman ' + str(depth) + ' meter', weight='bold')\n",
    "ax1.set_xlabel('Period (days)', weight='bold')\n",
    "ax1.set_ylabel('Normalized Temperature', weight='bold')\n",
    "\n",
    "ax2.set_title('Frequency Domain Signal di Kedalaman ' + str(depth) + ' meter', weight='bold')\n",
    "ax2.set_xlabel('Frequency', weight='bold')\n",
    "ax2.set_ylabel('Normalized Temperature', weight='bold')\n",
    "\n",
    "ax1.set(xlim=(0,30),ylim=(0,0.01)) #[CHANGE HERE with the limit of axis Figure]\n",
    "ax2.set(xlim=(.000000025,.0000008),ylim=(0,0.04)) #[CHANGE HERE with the limit of axis Figure]\n",
    "ax2.ticklabel_format(axis='x',scilimits=(0,0))\n",
    "\n",
    "ax1.grid(color='r', ls = '-.', lw = 0.25)\n",
    "ax2.grid(color='r', ls = '-.', lw = 0.25)\n",
    "plt.xticks(fontsize=8)\n",
    "plt.yticks(fontsize=8) \n",
    "\n",
    "#export gambar, berikan directory lokasi export\n",
    "#plt.savefig('...',dpi=300)\n",
    "\n",
    "#show gambar tanpa export\n",
    "plt.show()"
   ]
  },
  {
   "cell_type": "markdown",
   "metadata": {},
   "source": [
    "## 3. Plot Low-pass Filter\n",
    "plot ini digunakan untuk membandingkan raw data dengan hasil filternya"
   ]
  },
  {
   "cell_type": "code",
   "execution_count": null,
   "metadata": {
    "scrolled": true
   },
   "outputs": [],
   "source": [
    "Ts = 3600*24*5 # periode pengambilan data dalam sekon\n",
    "fs = 1/Ts  # Frekuensi sampling, satuan Hz\n",
    "\n",
    "fc = 1/(3600*24*20)  # Frekuensi cut-off = 20 hari, satuan 1/s atau Hz\n",
    "w = fc / (fs / 2) # Normalisasi frekuensi\n",
    "\n",
    "b, a = signal.butter(5, w, 'low') # desain filter untuk 'low pass'\n",
    "sst_filter = signal.filtfilt(b, a, sst[depth]) # implementasi filter ke data\n",
    "\n",
    "sst['sst_filter'] = sst_filter\n",
    "\n",
    "sst_index = sst.index[0:len(sst.index):10]\n",
    "sst_nindex = np.arange(0,len(sst.index),10)\n",
    "\n",
    "# Plot Data\n",
    "fig, ax = plt.subplots(figsize=(13,3),dpi=100)\n",
    "\n",
    "ax.plot(sst[depth],color = 'b', label='raw data') \n",
    "ax.plot(sst['sst_filter'],color = 'r', label='hasil filter')\n",
    "\n",
    "ax.set_xlabel('Date time',weight='bold')\n",
    "ax.set_ylabel('Temperature $(^oC)$',weight='bold') \n",
    "ax.set_title('Overlay Raw Data SST dengan Filter Data di Kedalaman ' + \n",
    "             str(depth) + ' meter', weight='bold')\n",
    "ax.legend(loc='best',fontsize=8)\n",
    "ax.grid(color='b', ls = '-.', lw = 0.25)\n",
    "plt.xticks(sst_nindex,sst_index,fontsize=8)\n",
    "plt.yticks(fontsize=8)\n",
    "\n",
    "#export gambar, berikan directory lokasi export\n",
    "#plt.savefig('...',dpi=300)\n",
    "\n",
    "#show gambar tanpa export\n",
    "plt.show()"
   ]
  },
  {
   "cell_type": "markdown",
   "metadata": {},
   "source": [
    "## 4. Plot Hovmoller Depth Time\n",
    "plot ini digunakan untuk melihat variasi suhu terhadap kedalaman dan waktu"
   ]
  },
  {
   "cell_type": "code",
   "execution_count": null,
   "metadata": {},
   "outputs": [],
   "source": [
    "sst.drop('sst_filter',axis=1,inplace=True)\n",
    "\n",
    "data = sst.transpose()\n",
    "hovmoller = data.reindex(index=data.index[::-1])\n",
    "\n",
    "xticks = data.columns[0:len(hovmoller.columns):8]\n",
    "yticks = hovmoller.index\n",
    "xnticks = np.arange(0,len(hovmoller.columns),8)\n",
    "ynticks = np.arange(0,len(hovmoller.index),1)\n",
    "\n",
    "# Plot Data\n",
    "fig, ax = plt.subplots(figsize=(12,5),dpi=100)\n",
    "im = ax.pcolormesh(hovmoller,cmap='jet',shading='gouraud')\n",
    "cs = plt.contour(hovmoller, [17,21], colors='k',linewidths=.8)\n",
    "\n",
    "ax.set_title('Diagram Hovmuller (Depth-Time) Temperatur'+\n",
    "             '\\n Di Daerah '+ daerah + ' Tahun '+ str(year),\n",
    "             weight='bold',fontsize = 14)\n",
    "ax.set_xlabel('Date Time',weight='bold',fontsize=12)\n",
    "ax.set_ylabel('Depth (m)',weight='bold',fontsize=12)\n",
    "\n",
    "plt.clabel(cs, fmt = '%2.1f', fontsize=11)\n",
    "fig.colorbar(im,ax=ax, shrink = .9)\n",
    "\n",
    "plt.xticks(xnticks,xticks, fontsize=8)\n",
    "plt.yticks(ynticks,yticks, fontsize=8)\n",
    "\n",
    "#export gambar, berikan directory lokasi export\n",
    "#plt.savefig('...',dpi=300)\n",
    "\n",
    "#show gambar tanpa export\n",
    "plt.show()"
   ]
  }
 ],
 "metadata": {
  "kernelspec": {
   "display_name": "Python 3",
   "language": "python",
   "name": "python3"
  },
  "language_info": {
   "codemirror_mode": {
    "name": "ipython",
    "version": 3
   },
   "file_extension": ".py",
   "mimetype": "text/x-python",
   "name": "python",
   "nbconvert_exporter": "python",
   "pygments_lexer": "ipython3",
   "version": "3.7.7"
  }
 },
 "nbformat": 4,
 "nbformat_minor": 4
}
