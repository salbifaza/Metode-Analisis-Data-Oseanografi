{
 "cells": [
  {
   "cell_type": "code",
   "execution_count": 1,
   "metadata": {},
   "outputs": [],
   "source": [
    "import numpy as np\n",
    "from netCDF4 import Dataset # conda install -c anaconda netcdf4\n",
    "import pandas as pd"
   ]
  },
  {
   "cell_type": "code",
   "execution_count": 2,
   "metadata": {},
   "outputs": [
    {
     "name": "stdout",
     "output_type": "stream",
     "text": [
      "dict_keys(['longitude', 'latitude', 'time', 'u10', 'v10'])\n"
     ]
    }
   ],
   "source": [
    "f = Dataset('DataAnginSalbi.nc')\n",
    "print (f.variables.keys())"
   ]
  },
  {
   "cell_type": "code",
   "execution_count": 3,
   "metadata": {},
   "outputs": [],
   "source": [
    "time = f.variables['time'][:]\n",
    "lats = f.variables['latitude'][:]\n",
    "lons = f.variables['longitude'][:]\n",
    "u10 = f.variables['u10'][:]\n",
    "v10 = f.variables['v10'][:]"
   ]
  },
  {
   "cell_type": "code",
   "execution_count": 4,
   "metadata": {},
   "outputs": [
    {
     "name": "stdout",
     "output_type": "stream",
     "text": [
      "shape time (124,)\n",
      "shape lats (1,)\n",
      "shape v10 (124, 1, 1)\n"
     ]
    }
   ],
   "source": [
    "print ('shape time',np.shape(time))\n",
    "print ('shape lats',np.shape(lats))\n",
    "print ('shape v10',np.shape(v10))"
   ]
  },
  {
   "cell_type": "code",
   "execution_count": 5,
   "metadata": {},
   "outputs": [
    {
     "data": {
      "text/html": [
       "<div>\n",
       "<style scoped>\n",
       "    .dataframe tbody tr th:only-of-type {\n",
       "        vertical-align: middle;\n",
       "    }\n",
       "\n",
       "    .dataframe tbody tr th {\n",
       "        vertical-align: top;\n",
       "    }\n",
       "\n",
       "    .dataframe thead th {\n",
       "        text-align: right;\n",
       "    }\n",
       "</style>\n",
       "<table border=\"1\" class=\"dataframe\">\n",
       "  <thead>\n",
       "    <tr style=\"text-align: right;\">\n",
       "      <th></th>\n",
       "      <th>u10</th>\n",
       "      <th>v10</th>\n",
       "    </tr>\n",
       "    <tr>\n",
       "      <th>stat</th>\n",
       "      <th></th>\n",
       "      <th></th>\n",
       "    </tr>\n",
       "  </thead>\n",
       "  <tbody>\n",
       "    <tr>\n",
       "      <th>mean</th>\n",
       "      <td>5.783011</td>\n",
       "      <td>1.103428</td>\n",
       "    </tr>\n",
       "    <tr>\n",
       "      <th>max</th>\n",
       "      <td>10.770667</td>\n",
       "      <td>6.571780</td>\n",
       "    </tr>\n",
       "    <tr>\n",
       "      <th>min</th>\n",
       "      <td>1.266091</td>\n",
       "      <td>-4.288693</td>\n",
       "    </tr>\n",
       "  </tbody>\n",
       "</table>\n",
       "</div>"
      ],
      "text/plain": [
       "            u10       v10\n",
       "stat                     \n",
       "mean   5.783011  1.103428\n",
       "max   10.770667  6.571780\n",
       "min    1.266091 -4.288693"
      ]
     },
     "metadata": {},
     "output_type": "display_data"
    }
   ],
   "source": [
    "# Menghitung nilai statistik dari \n",
    "uv_stat = { 'stat':['mean','max','min'],\n",
    "            'u10': [u10.mean(), u10.max(), u10.min()], \n",
    "            'v10': [v10.mean(), v10.max(), v10.min()]}\n",
    "\n",
    "df = pd.DataFrame(uv_stat)\n",
    "\n",
    "df.set_index('stat',inplace=True)\n",
    "display (df)"
   ]
  },
  {
   "cell_type": "code",
   "execution_count": 12,
   "metadata": {},
   "outputs": [
    {
     "data": {
      "image/png": "[encoded data removed]",
      "text/plain": [
       "<Figure size 800x550 with 1 Axes>"
      ]
     },
     "metadata": {},
     "output_type": "display_data"
    }
   ],
   "source": [
    "import matplotlib.pyplot as plt\n",
    "\n",
    "\n",
    "plt.style.use('seaborn')\n",
    "fig, ax = plt.subplots(dpi=100)\n",
    "x = np.arange(0,12,1)\n",
    "ax.hist(u10[:,0,0],bins=x,color='coral',edgecolor='red',alpha=.8)\n",
    "ax.set_title('Histogram u10 interval 1 m/s', fontsize=14)\n",
    "ax.set_xticks(x)\n",
    "\n",
    "for index, value in enumerate():\n",
    "    plt.text(value, index, str(value))\n",
    "    \n",
    "plt.show()"
   ]
  }
 ],
 "metadata": {
  "kernelspec": {
   "display_name": "Python 3",
   "language": "python",
   "name": "python3"
  },
  "language_info": {
   "codemirror_mode": {
    "name": "ipython",
    "version": 3
   },
   "file_extension": ".py",
   "mimetype": "text/x-python",
   "name": "python",
   "nbconvert_exporter": "python",
   "pygments_lexer": "ipython3",
   "version": "3.7.7"
  }
 },
 "nbformat": 4,
 "nbformat_minor": 4
}
